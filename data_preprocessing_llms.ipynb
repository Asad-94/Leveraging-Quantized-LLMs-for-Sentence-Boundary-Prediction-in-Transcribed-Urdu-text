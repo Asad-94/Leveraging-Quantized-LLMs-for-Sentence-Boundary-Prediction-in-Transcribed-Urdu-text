{
 "cells": [
  {
   "cell_type": "markdown",
   "id": "d221faf6",
   "metadata": {},
   "source": [
    "#### Loading Dataset"
   ]
  },
  {
   "cell_type": "code",
   "execution_count": 21,
   "id": "e437b3e4",
   "metadata": {},
   "outputs": [],
   "source": [
    "import pandas as pd\n",
    "df = pd.read_csv('imdb_urdu_reviews_train.csv')"
   ]
  },
  {
   "cell_type": "code",
   "execution_count": 22,
   "id": "dd509cda",
   "metadata": {},
   "outputs": [
    {
     "data": {
      "text/html": [
       "<div>\n",
       "<style scoped>\n",
       "    .dataframe tbody tr th:only-of-type {\n",
       "        vertical-align: middle;\n",
       "    }\n",
       "\n",
       "    .dataframe tbody tr th {\n",
       "        vertical-align: top;\n",
       "    }\n",
       "\n",
       "    .dataframe thead th {\n",
       "        text-align: right;\n",
       "    }\n",
       "</style>\n",
       "<table border=\"1\" class=\"dataframe\">\n",
       "  <thead>\n",
       "    <tr style=\"text-align: right;\">\n",
       "      <th></th>\n",
       "      <th>review</th>\n",
       "      <th>sentiment</th>\n",
       "    </tr>\n",
       "  </thead>\n",
       "  <tbody>\n",
       "    <tr>\n",
       "      <th>0</th>\n",
       "      <td>میں نے اسے 80 کی دہائی کے وسط میں ایک کیبل گائ...</td>\n",
       "      <td>positive</td>\n",
       "    </tr>\n",
       "    <tr>\n",
       "      <th>1</th>\n",
       "      <td>چونکہ میں نے 80 کی دہائی میں انسپکٹر گیجٹ کارٹ...</td>\n",
       "      <td>negative</td>\n",
       "    </tr>\n",
       "    <tr>\n",
       "      <th>2</th>\n",
       "      <td>ایک ایسے معاشرے کی حالت کے بارے میں تعجب کرتا ...</td>\n",
       "      <td>positive</td>\n",
       "    </tr>\n",
       "    <tr>\n",
       "      <th>3</th>\n",
       "      <td>مفید البرٹ پیون کی طرف سے ایک اور ردی کی ٹوکری...</td>\n",
       "      <td>negative</td>\n",
       "    </tr>\n",
       "    <tr>\n",
       "      <th>4</th>\n",
       "      <td>یہ کولمبو ہے جس کی ہدایتکاری اپنے کیریئر کے اب...</td>\n",
       "      <td>positive</td>\n",
       "    </tr>\n",
       "  </tbody>\n",
       "</table>\n",
       "</div>"
      ],
      "text/plain": [
       "                                              review sentiment\n",
       "0  میں نے اسے 80 کی دہائی کے وسط میں ایک کیبل گائ...  positive\n",
       "1  چونکہ میں نے 80 کی دہائی میں انسپکٹر گیجٹ کارٹ...  negative\n",
       "2  ایک ایسے معاشرے کی حالت کے بارے میں تعجب کرتا ...  positive\n",
       "3  مفید البرٹ پیون کی طرف سے ایک اور ردی کی ٹوکری...  negative\n",
       "4  یہ کولمبو ہے جس کی ہدایتکاری اپنے کیریئر کے اب...  positive"
      ]
     },
     "execution_count": 22,
     "metadata": {},
     "output_type": "execute_result"
    }
   ],
   "source": [
    "df.head()"
   ]
  },
  {
   "cell_type": "markdown",
   "id": "3f8e1d94",
   "metadata": {},
   "source": [
    "#### Combining text in one paragraph"
   ]
  },
  {
   "cell_type": "code",
   "execution_count": 23,
   "id": "bc2532c0",
   "metadata": {},
   "outputs": [
    {
     "name": "stdout",
     "output_type": "stream",
     "text": [
      "میں نے اسے 80 کی دہائی کے وسط میں ایک کیبل گائیڈ (اسکائینجر ہنٹ پہلو نے مجھ سے اپیل کی تھی) کی علامت پر مبنی ایک نوعمر کی حیثیت سے ٹیپ کیا ، اس فلم کی کوئی معلومات یا توقعات نہیں تھیں۔ کتنی خوشگوار حیرت ہے جب میں نے اسے دیکھا! یہ ایک ایسی تفریحی فلم تھی اور مجھے یاد ہے کہ اسے بار بار دیکھا جاتا تھا۔ میں نے سوچا کہ یہ تصور اچھی طرح سے نافذ کیا گیا ہے ، میں نے مختلف گروہوں کے مابین بے ضرر مسابقت کا لطف اٹھایا ، اور مجھے لگتا ہے کہ مقتول کا شکار خود ہی کافی ہوشیار تھا۔ کبھی کبھی ایسا لگتا ہے کہ لوگ\n"
     ]
    }
   ],
   "source": [
    "# Combine all sentences in the 'review' column into one paragraph\n",
    "combined_paragraph = ' '.join(df['review'])\n",
    "\n",
    "print(combined_paragraph[0:500])"
   ]
  },
  {
   "cell_type": "markdown",
   "id": "fab95cb8",
   "metadata": {},
   "source": [
    "#### Removing punctuations (except full stop & comma)"
   ]
  },
  {
   "cell_type": "code",
   "execution_count": 24,
   "id": "b15c8407",
   "metadata": {},
   "outputs": [
    {
     "name": "stdout",
     "output_type": "stream",
     "text": [
      "میں نے اسے 80 کی دہائی کے وسط میں ایک کیبل گائیڈ اسکائینجر ہنٹ پہلو نے مجھ سے اپیل کی تھی کی علامت پر مبنی ایک نوعمر کی حیثیت سے ٹیپ کیا ، اس فلم کی کوئی معلومات یا توقعات نہیں تھیں۔ کتنی خوشگوار حیرت ہے جب میں نے اسے دیکھا یہ ایک ایسی تفریحی فلم تھی اور مجھے یاد ہے کہ اسے بار بار دیکھا جاتا تھا۔ میں نے سوچا کہ یہ تصور اچھی طرح سے نافذ کیا گیا ہے ، میں نے مختلف گروہوں کے مابین بے ضرر مسابقت کا لطف اٹھایا ، اور مجھے لگتا ہے کہ مقتول کا شکار خود ہی کافی ہوشیار تھا۔ کبھی کبھی ایسا لگتا ہے کہ لوگوں \n"
     ]
    }
   ],
   "source": [
    "import string\n",
    "\n",
    "# Define a translation table to remove punctuations except Urdu comma and full stop\n",
    "translator = str.maketrans('', '', string.punctuation.replace('،', '').replace('۔', ''))\n",
    "\n",
    "# Remove punctuations and extra spaces\n",
    "cleaned_text = combined_paragraph.translate(translator).replace('  ', ' ')\n",
    "\n",
    "# Print the result\n",
    "print(cleaned_text[0:500])"
   ]
  },
  {
   "cell_type": "markdown",
   "id": "7698f3b0",
   "metadata": {},
   "source": [
    "#### Splitting the text into sentences"
   ]
  },
  {
   "cell_type": "code",
   "execution_count": 25,
   "id": "9b024d05",
   "metadata": {},
   "outputs": [
    {
     "name": "stdout",
     "output_type": "stream",
     "text": [
      "['میں نے اسے 80 کی دہائی کے وسط میں ایک کیبل گائیڈ اسکائینجر ہنٹ پہلو نے مجھ سے اپیل کی تھی کی علامت پر مبنی ایک نوعمر کی حیثیت سے ٹیپ کیا، اس فلم کی کوئی معلومات یا توقعات نہیں تھیں۔', 'کتنی خوشگوار حیرت ہے جب میں نے اسے دیکھا یہ ایک ایسی تفریحی فلم تھی اور مجھے یاد ہے کہ اسے بار بار دیکھا جاتا تھا۔', 'میں نے سوچا کہ یہ تصور اچھی طرح سے نافذ کیا گیا ہے، میں نے مختلف گروہوں کے مابین بے ضرر مسابقت کا لطف اٹھایا، اور مجھے لگتا ہے کہ مقتول کا شکار خود ہی کافی ہوشیار تھا۔', 'کبھی کبھی ایسا لگتا ہے کہ لوگوں کو فلموں سے بہت زیادہ توقعات وابستہ ہیں۔', 'تمام فلموں میں ایک بھاری پیغام یا شاندار اداکاری، پروڈکشن کی قدریں، یا خصوصی اثرات مرتب نہیں ہوں گے۔']\n"
     ]
    }
   ],
   "source": [
    "# Split the text into sentences using Urdu full stop (۔) as the delimiter\n",
    "broken_sentences = cleaned_text.split('۔')\n",
    "\n",
    "# Include the Urdu full stop in each sentence\n",
    "broken_sentences = [sentence.strip() + '۔' for sentence in broken_sentences if sentence.strip()]\n",
    "\n",
    "# Remove the space before Urdu commas in each sentence\n",
    "broken_sentences = [sentence.replace(' ،', '،') for sentence in broken_sentences]\n",
    "\n",
    "# Print the result\n",
    "print(broken_sentences[0:5])"
   ]
  },
  {
   "cell_type": "markdown",
   "id": "c2a83943",
   "metadata": {},
   "source": [
    "### Applying Filters"
   ]
  },
  {
   "cell_type": "markdown",
   "id": "d25c10a2",
   "metadata": {},
   "source": [
    "#### 1- List with 25 to 30 word sentences"
   ]
  },
  {
   "cell_type": "code",
   "execution_count": 26,
   "id": "f9f1c63d",
   "metadata": {},
   "outputs": [],
   "source": [
    "# Define a function to count words in a sentence\n",
    "def count_words(sentence):\n",
    "    return len(sentence.split())\n",
    "\n",
    "# Create a new list with sentences meeting the criteria\n",
    "selected_sentences = [\n",
    "    sentence for sentence in broken_sentences\n",
    "    if 25 <= count_words(sentence) <= 30 and '،' in sentence\n",
    "]"
   ]
  },
  {
   "cell_type": "markdown",
   "id": "c5109b05",
   "metadata": {},
   "source": [
    "#### 2- Sentences without English words"
   ]
  },
  {
   "cell_type": "code",
   "execution_count": 27,
   "id": "2aac2ef9",
   "metadata": {},
   "outputs": [],
   "source": [
    "import re\n",
    "\n",
    "# Define a regular expression to match Urdu words\n",
    "urdu_word_pattern = re.compile(r'[\\u0600-\\u06FF]+')\n",
    "\n",
    "# Filter sentences that do not contain any English words\n",
    "urdu_sentences = [sentence for sentence in selected_sentences if not re.search(r'[a-zA-Z]', sentence) and re.search(urdu_word_pattern, sentence)]"
   ]
  },
  {
   "cell_type": "markdown",
   "id": "4cca971f",
   "metadata": {},
   "source": [
    "#### 3- Sentences with only commas & full stops"
   ]
  },
  {
   "cell_type": "code",
   "execution_count": 28,
   "id": "97a9289d",
   "metadata": {},
   "outputs": [],
   "source": [
    "# Filter sentences that do not contain the Urdu question mark (؟)\n",
    "urdu_sentences = [\n",
    "    sentence for sentence in urdu_sentences\n",
    "    if '؟' not in sentence\n",
    "]"
   ]
  },
  {
   "cell_type": "code",
   "execution_count": 30,
   "id": "4aa255bd",
   "metadata": {},
   "outputs": [
    {
     "data": {
      "text/plain": [
       "32951"
      ]
     },
     "execution_count": 30,
     "metadata": {},
     "output_type": "execute_result"
    }
   ],
   "source": [
    "len(urdu_sentences)"
   ]
  },
  {
   "cell_type": "code",
   "execution_count": 31,
   "id": "2d70187c",
   "metadata": {},
   "outputs": [
    {
     "name": "stdout",
     "output_type": "stream",
     "text": [
      "['بلکہ بے رحمی کے ساتھ، وہ اس سے پوچھتی ہے کہ کیا وہ اخبار رکھ سکتا ہے، اور وہ خاتون دوسرے حصے پیش کرتی ہے۔', 'یہ پرل، نوعمر حراستی مرکز میں استاد ہے جو نوجوان کے اندر ہنگامہ دیکھتا ہے اور مدد کرنا چاہتا ہے، لیکن بدقسمتی سے، اس کے پاس کوئی موقع نہیں ہے۔', 'دھندلا کیونکہ اس کتاب کی زیادہ تر ایک کولمبو فلم ہے جس میں حقیقی یادگار لمحات نہیں ہوتے ہیں، پھیکا نہیں ہوتا ہے کیونکہ یہ دیکھنا ایک بورنگ فلم ہے۔']\n"
     ]
    }
   ],
   "source": [
    "print(urdu_sentences[0:3])"
   ]
  },
  {
   "cell_type": "markdown",
   "id": "3a998800",
   "metadata": {},
   "source": [
    "#### List of sentences without punctuations"
   ]
  },
  {
   "cell_type": "code",
   "execution_count": 11,
   "id": "b95846b0",
   "metadata": {},
   "outputs": [],
   "source": [
    "# Define a regular expression to match Urdu full stop (۔) and Urdu comma (،)\n",
    "punctuation_pattern = re.compile(r'[،۔]')\n",
    "\n",
    "# Remove punctuations from each sentence\n",
    "sentences_without_punctuation = [\n",
    "    re.sub(punctuation_pattern, '', sentence)\n",
    "    for sentence in urdu_sentences\n",
    "]"
   ]
  },
  {
   "cell_type": "code",
   "execution_count": 12,
   "id": "ab905378",
   "metadata": {},
   "outputs": [
    {
     "data": {
      "text/plain": [
       "32951"
      ]
     },
     "execution_count": 12,
     "metadata": {},
     "output_type": "execute_result"
    }
   ],
   "source": [
    "len(sentences_without_punctuation)"
   ]
  },
  {
   "cell_type": "code",
   "execution_count": 14,
   "id": "0db24931",
   "metadata": {},
   "outputs": [
    {
     "name": "stdout",
     "output_type": "stream",
     "text": [
      "['بلکہ بے رحمی کے ساتھ وہ اس سے پوچھتی ہے کہ کیا وہ اخبار رکھ سکتا ہے اور وہ خاتون دوسرے حصے پیش کرتی ہے', 'یہ پرل نوعمر حراستی مرکز میں استاد ہے جو نوجوان کے اندر ہنگامہ دیکھتا ہے اور مدد کرنا چاہتا ہے لیکن بدقسمتی سے اس کے پاس کوئی موقع نہیں ہے', 'دھندلا کیونکہ اس کتاب کی زیادہ تر ایک کولمبو فلم ہے جس میں حقیقی یادگار لمحات نہیں ہوتے ہیں پھیکا نہیں ہوتا ہے کیونکہ یہ دیکھنا ایک بورنگ فلم ہے', 'یہ دیکھ کر حیرت کی بات ہے کہ اس میں سے زیادہ تر اسپیلبرگ کے بعد کے کام خاص طور پر کچھ کیمرہ زاویوں کے ساتھ مطابقت رکھتا تھا', 'آخر میں مجھے حیرت نہیں ہے ہاؤس آف موم نے آئی ایم ڈی بی ٹاپ 250 میں جگہ نہیں بنائی لیکن یہ یقینی طور پر دیکھنے کے قابل ہے', 'پہلی فلم میں اس کے پاس لوگوں کو مارنے کی ایک وجہ تھی لیکن اس سلسلے میں آدھے قتل قتل کی بنیادی وجہ بلا وجہ تھی', 'میں نے سوچا کہ اداکاروں نے کچھ حد تک کوشش کی لیکن اس فلم کے ساتھ یہ اتنا لنگڑا تھا کہ صرف اتنی دور تک جاسکتی ہے', 'یہاں ایک اور چھوٹی سی کہانی کی معمولی لائنیں ہیں جو واقعی میں لینے سے کہیں زیادہ دلچسپ ہوسکتی ہیں لیکن ان کی پوری تلاش نہیں کی جاتی ہے', 'جب ویڈیو ٹی بی ایس پر دکھائی جاتی ہے تو ویڈیو اسٹور وال مارٹ ہر منظر کے مطابق یا اتوار کی دوپہر کو اپنا وقت ضائع نہ کریں', 'دور دراز کے جزیرے کے چڑیا گھر میں بجلی کی بندش کے سلسلے کے بعد جینیاتی طور پر انجنیئر سابرٹوتھ ٹائیگر جزیرے کے ڈھیلے اور نوکیلے رہائشیوں پر ہیں']\n"
     ]
    }
   ],
   "source": [
    "print(sentences_without_punctuation[0:10])"
   ]
  },
  {
   "cell_type": "markdown",
   "id": "f10c24c8",
   "metadata": {},
   "source": [
    "### For HuggingFace"
   ]
  },
  {
   "cell_type": "markdown",
   "id": "6f678f88",
   "metadata": {},
   "source": [
    "#### Sentence List for Training"
   ]
  },
  {
   "cell_type": "code",
   "execution_count": 80,
   "id": "eee72635",
   "metadata": {},
   "outputs": [],
   "source": [
    "# Take the first 2000 sentences from sentences_without_punctuation\n",
    "sentences_without_punctuations_train = sentences_without_punctuation[:2000]\n",
    "\n",
    "# Take the first 2000 sentences from urdu_sentences\n",
    "sentences_with_punctuations_train = urdu_sentences[:2000]"
   ]
  },
  {
   "cell_type": "markdown",
   "id": "12fa5604",
   "metadata": {},
   "source": [
    "#### Dataframe for training"
   ]
  },
  {
   "cell_type": "code",
   "execution_count": 86,
   "id": "3b484ff7",
   "metadata": {},
   "outputs": [],
   "source": [
    "# Create a dictionary with the data\n",
    "data = {\n",
    "    'Instructions': ['Add appropriate punctuations and sentence boundaries to the following Urdu text in input. Don\\'t include any kind of html tags and don\\'t truncate the output. Provide the actual input that has been asked. \"،\" \"۔\" These are the punctuations that need to be added'] * 2000,\n",
    "    'Prompt': sentences_without_punctuations_train,\n",
    "    'Response': sentences_with_punctuations_train\n",
    "}\n",
    "\n",
    "# Create a DataFrame\n",
    "df = pd.DataFrame(data)"
   ]
  },
  {
   "cell_type": "code",
   "execution_count": 116,
   "id": "140dc460",
   "metadata": {},
   "outputs": [
    {
     "data": {
      "text/html": [
       "<div>\n",
       "<style scoped>\n",
       "    .dataframe tbody tr th:only-of-type {\n",
       "        vertical-align: middle;\n",
       "    }\n",
       "\n",
       "    .dataframe tbody tr th {\n",
       "        vertical-align: top;\n",
       "    }\n",
       "\n",
       "    .dataframe thead th {\n",
       "        text-align: right;\n",
       "    }\n",
       "</style>\n",
       "<table border=\"1\" class=\"dataframe\">\n",
       "  <thead>\n",
       "    <tr style=\"text-align: right;\">\n",
       "      <th></th>\n",
       "      <th>Instructions</th>\n",
       "      <th>Prompt</th>\n",
       "      <th>Response</th>\n",
       "    </tr>\n",
       "  </thead>\n",
       "  <tbody>\n",
       "    <tr>\n",
       "      <th>0</th>\n",
       "      <td>Add appropriate punctuations and sentence boundaries to the following Urdu text in input. Don't include any kind of html tags and don't truncate the output. Provide the actual input that has been asked. \"،\" \"۔\" These are the punctuations that need to be added</td>\n",
       "      <td>بلکہ بے رحمی کے ساتھ وہ اس سے پوچھتی ہے کہ کیا وہ اخبار رکھ سکتا ہے اور وہ خاتون دوسرے حصے پیش کرتی ہے</td>\n",
       "      <td>بلکہ بے رحمی کے ساتھ، وہ اس سے پوچھتی ہے کہ کیا وہ اخبار رکھ سکتا ہے، اور وہ خاتون دوسرے حصے پیش کرتی ہے۔</td>\n",
       "    </tr>\n",
       "    <tr>\n",
       "      <th>1</th>\n",
       "      <td>Add appropriate punctuations and sentence boundaries to the following Urdu text in input. Don't include any kind of html tags and don't truncate the output. Provide the actual input that has been asked. \"،\" \"۔\" These are the punctuations that need to be added</td>\n",
       "      <td>یہ پرل نوعمر حراستی مرکز میں استاد ہے جو نوجوان کے اندر ہنگامہ دیکھتا ہے اور مدد کرنا چاہتا ہے لیکن بدقسمتی سے اس کے پاس کوئی موقع نہیں ہے</td>\n",
       "      <td>یہ پرل، نوعمر حراستی مرکز میں استاد ہے جو نوجوان کے اندر ہنگامہ دیکھتا ہے اور مدد کرنا چاہتا ہے، لیکن بدقسمتی سے، اس کے پاس کوئی موقع نہیں ہے۔</td>\n",
       "    </tr>\n",
       "    <tr>\n",
       "      <th>2</th>\n",
       "      <td>Add appropriate punctuations and sentence boundaries to the following Urdu text in input. Don't include any kind of html tags and don't truncate the output. Provide the actual input that has been asked. \"،\" \"۔\" These are the punctuations that need to be added</td>\n",
       "      <td>دھندلا کیونکہ اس کتاب کی زیادہ تر ایک کولمبو فلم ہے جس میں حقیقی یادگار لمحات نہیں ہوتے ہیں پھیکا نہیں ہوتا ہے کیونکہ یہ دیکھنا ایک بورنگ فلم ہے</td>\n",
       "      <td>دھندلا کیونکہ اس کتاب کی زیادہ تر ایک کولمبو فلم ہے جس میں حقیقی یادگار لمحات نہیں ہوتے ہیں، پھیکا نہیں ہوتا ہے کیونکہ یہ دیکھنا ایک بورنگ فلم ہے۔</td>\n",
       "    </tr>\n",
       "    <tr>\n",
       "      <th>3</th>\n",
       "      <td>Add appropriate punctuations and sentence boundaries to the following Urdu text in input. Don't include any kind of html tags and don't truncate the output. Provide the actual input that has been asked. \"،\" \"۔\" These are the punctuations that need to be added</td>\n",
       "      <td>یہ دیکھ کر حیرت کی بات ہے کہ اس میں سے زیادہ تر اسپیلبرگ کے بعد کے کام خاص طور پر کچھ کیمرہ زاویوں کے ساتھ مطابقت رکھتا تھا</td>\n",
       "      <td>یہ دیکھ کر حیرت کی بات ہے کہ اس میں سے زیادہ تر اسپیلبرگ کے بعد کے کام، خاص طور پر کچھ کیمرہ زاویوں کے ساتھ مطابقت رکھتا تھا۔</td>\n",
       "    </tr>\n",
       "    <tr>\n",
       "      <th>4</th>\n",
       "      <td>Add appropriate punctuations and sentence boundaries to the following Urdu text in input. Don't include any kind of html tags and don't truncate the output. Provide the actual input that has been asked. \"،\" \"۔\" These are the punctuations that need to be added</td>\n",
       "      <td>آخر میں مجھے حیرت نہیں ہے ہاؤس آف موم نے آئی ایم ڈی بی ٹاپ 250 میں جگہ نہیں بنائی لیکن یہ یقینی طور پر دیکھنے کے قابل ہے</td>\n",
       "      <td>آخر میں، مجھے حیرت نہیں ہے ہاؤس آف موم نے آئی ایم ڈی بی ٹاپ 250 میں جگہ نہیں بنائی، لیکن یہ یقینی طور پر دیکھنے کے قابل ہے۔</td>\n",
       "    </tr>\n",
       "  </tbody>\n",
       "</table>\n",
       "</div>"
      ],
      "text/plain": [
       "                                                                                                                                                                                                                                                          Instructions  \\\n",
       "0  Add appropriate punctuations and sentence boundaries to the following Urdu text in input. Don't include any kind of html tags and don't truncate the output. Provide the actual input that has been asked. \"،\" \"۔\" These are the punctuations that need to be added   \n",
       "1  Add appropriate punctuations and sentence boundaries to the following Urdu text in input. Don't include any kind of html tags and don't truncate the output. Provide the actual input that has been asked. \"،\" \"۔\" These are the punctuations that need to be added   \n",
       "2  Add appropriate punctuations and sentence boundaries to the following Urdu text in input. Don't include any kind of html tags and don't truncate the output. Provide the actual input that has been asked. \"،\" \"۔\" These are the punctuations that need to be added   \n",
       "3  Add appropriate punctuations and sentence boundaries to the following Urdu text in input. Don't include any kind of html tags and don't truncate the output. Provide the actual input that has been asked. \"،\" \"۔\" These are the punctuations that need to be added   \n",
       "4  Add appropriate punctuations and sentence boundaries to the following Urdu text in input. Don't include any kind of html tags and don't truncate the output. Provide the actual input that has been asked. \"،\" \"۔\" These are the punctuations that need to be added   \n",
       "\n",
       "                                                                                                                                             Prompt  \\\n",
       "0                                            بلکہ بے رحمی کے ساتھ وہ اس سے پوچھتی ہے کہ کیا وہ اخبار رکھ سکتا ہے اور وہ خاتون دوسرے حصے پیش کرتی ہے   \n",
       "1        یہ پرل نوعمر حراستی مرکز میں استاد ہے جو نوجوان کے اندر ہنگامہ دیکھتا ہے اور مدد کرنا چاہتا ہے لیکن بدقسمتی سے اس کے پاس کوئی موقع نہیں ہے   \n",
       "2  دھندلا کیونکہ اس کتاب کی زیادہ تر ایک کولمبو فلم ہے جس میں حقیقی یادگار لمحات نہیں ہوتے ہیں پھیکا نہیں ہوتا ہے کیونکہ یہ دیکھنا ایک بورنگ فلم ہے   \n",
       "3                       یہ دیکھ کر حیرت کی بات ہے کہ اس میں سے زیادہ تر اسپیلبرگ کے بعد کے کام خاص طور پر کچھ کیمرہ زاویوں کے ساتھ مطابقت رکھتا تھا   \n",
       "4                          آخر میں مجھے حیرت نہیں ہے ہاؤس آف موم نے آئی ایم ڈی بی ٹاپ 250 میں جگہ نہیں بنائی لیکن یہ یقینی طور پر دیکھنے کے قابل ہے   \n",
       "\n",
       "                                                                                                                                             Response  \n",
       "0                                           بلکہ بے رحمی کے ساتھ، وہ اس سے پوچھتی ہے کہ کیا وہ اخبار رکھ سکتا ہے، اور وہ خاتون دوسرے حصے پیش کرتی ہے۔  \n",
       "1      یہ پرل، نوعمر حراستی مرکز میں استاد ہے جو نوجوان کے اندر ہنگامہ دیکھتا ہے اور مدد کرنا چاہتا ہے، لیکن بدقسمتی سے، اس کے پاس کوئی موقع نہیں ہے۔  \n",
       "2  دھندلا کیونکہ اس کتاب کی زیادہ تر ایک کولمبو فلم ہے جس میں حقیقی یادگار لمحات نہیں ہوتے ہیں، پھیکا نہیں ہوتا ہے کیونکہ یہ دیکھنا ایک بورنگ فلم ہے۔  \n",
       "3                       یہ دیکھ کر حیرت کی بات ہے کہ اس میں سے زیادہ تر اسپیلبرگ کے بعد کے کام، خاص طور پر کچھ کیمرہ زاویوں کے ساتھ مطابقت رکھتا تھا۔  \n",
       "4                         آخر میں، مجھے حیرت نہیں ہے ہاؤس آف موم نے آئی ایم ڈی بی ٹاپ 250 میں جگہ نہیں بنائی، لیکن یہ یقینی طور پر دیکھنے کے قابل ہے۔  "
      ]
     },
     "execution_count": 116,
     "metadata": {},
     "output_type": "execute_result"
    }
   ],
   "source": [
    "df.head()"
   ]
  },
  {
   "cell_type": "code",
   "execution_count": 92,
   "id": "4b9fbc21",
   "metadata": {},
   "outputs": [],
   "source": [
    "# Save the DataFrame to a CSV file\n",
    "df.to_csv('urdu_sentences_train.csv', index=False, encoding='utf-8-sig')"
   ]
  },
  {
   "cell_type": "markdown",
   "id": "d781c0c1",
   "metadata": {},
   "source": [
    "#### Sentence List for Testing"
   ]
  },
  {
   "cell_type": "code",
   "execution_count": 15,
   "id": "b04f2c55",
   "metadata": {},
   "outputs": [],
   "source": [
    "# Take 1000 sentences from sentences_without_punctuation\n",
    "sentences_without_punctuations_test = sentences_without_punctuation[2000:3000]\n",
    "\n",
    "# Take 1000 sentences from urdu_sentences\n",
    "sentences_with_punctuations_test = urdu_sentences[2000:3000]"
   ]
  },
  {
   "cell_type": "markdown",
   "id": "deab81df",
   "metadata": {},
   "source": [
    "#### Dataframe for testing"
   ]
  },
  {
   "cell_type": "code",
   "execution_count": 163,
   "id": "dac39968",
   "metadata": {},
   "outputs": [],
   "source": [
    "# Create a dictionary with the data\n",
    "data_test = {\n",
    "    'Instructions': ['Add appropriate punctuations and sentence boundaries to the following Urdu text in input. Don\\'t include any kind of html tags and don\\'t truncate the output. Provide the actual input that has been asked. \"،\" \"۔\" These are the punctuations that need to be added'] * 1000,\n",
    "    'Prompt': sentences_without_punctuations_test,\n",
    "}\n",
    "\n",
    "# Create a DataFrame\n",
    "df_test = pd.DataFrame(data_test)"
   ]
  },
  {
   "cell_type": "code",
   "execution_count": 164,
   "id": "c8fa55a0",
   "metadata": {},
   "outputs": [
    {
     "data": {
      "text/html": [
       "<div>\n",
       "<style scoped>\n",
       "    .dataframe tbody tr th:only-of-type {\n",
       "        vertical-align: middle;\n",
       "    }\n",
       "\n",
       "    .dataframe tbody tr th {\n",
       "        vertical-align: top;\n",
       "    }\n",
       "\n",
       "    .dataframe thead th {\n",
       "        text-align: right;\n",
       "    }\n",
       "</style>\n",
       "<table border=\"1\" class=\"dataframe\">\n",
       "  <thead>\n",
       "    <tr style=\"text-align: right;\">\n",
       "      <th></th>\n",
       "      <th>Instructions</th>\n",
       "      <th>Prompt</th>\n",
       "    </tr>\n",
       "  </thead>\n",
       "  <tbody>\n",
       "    <tr>\n",
       "      <th>0</th>\n",
       "      <td>Add appropriate punctuations and sentence boundaries to the following Urdu text in input. Don't include any kind of html tags and don't truncate the output. Provide the actual input that has been asked. \"،\" \"۔\" These are the punctuations that need to be added</td>\n",
       "      <td>وہ پہلے ایک بہت ہی ہمدرد کردار کی حیثیت سے نہیں آسکتی ہے لیکن پوری فلم کو دیکھ کر آپ چاہتے ہیں کہ اس کی کامیابی ہوجائے</td>\n",
       "    </tr>\n",
       "    <tr>\n",
       "      <th>1</th>\n",
       "      <td>Add appropriate punctuations and sentence boundaries to the following Urdu text in input. Don't include any kind of html tags and don't truncate the output. Provide the actual input that has been asked. \"،\" \"۔\" These are the punctuations that need to be added</td>\n",
       "      <td>میں نے اس سے پہلے کبھی نہیں سنا تھا اور نہ ہی جان بوجھ کر اسے کسی دوسری فلم میں دیکھا تھا لیکن یہ زبردست اداکاری تھی</td>\n",
       "    </tr>\n",
       "    <tr>\n",
       "      <th>2</th>\n",
       "      <td>Add appropriate punctuations and sentence boundaries to the following Urdu text in input. Don't include any kind of html tags and don't truncate the output. Provide the actual input that has been asked. \"،\" \"۔\" These are the punctuations that need to be added</td>\n",
       "      <td>اس فلم کی خوبصورتی کا ثبوت ماں کی محبت کی طاقت غیر معمولی پرفارمنس مستقل پھانسی اور کافی جدید اسکرپٹ کے عظیم نقاشی میں ہے</td>\n",
       "    </tr>\n",
       "    <tr>\n",
       "      <th>3</th>\n",
       "      <td>Add appropriate punctuations and sentence boundaries to the following Urdu text in input. Don't include any kind of html tags and don't truncate the output. Provide the actual input that has been asked. \"،\" \"۔\" These are the punctuations that need to be added</td>\n",
       "      <td>اس فلم میں ایک ہندوستانی خاتون نندنی کی کہانی بیان کی گئی ہے جو اپنے شوہر شیکھر اور چھوٹے بچے راجہ کے ساتھ کینیڈا میں رہتی ہیں</td>\n",
       "    </tr>\n",
       "    <tr>\n",
       "      <th>4</th>\n",
       "      <td>Add appropriate punctuations and sentence boundaries to the following Urdu text in input. Don't include any kind of html tags and don't truncate the output. Provide the actual input that has been asked. \"،\" \"۔\" These are the punctuations that need to be added</td>\n",
       "      <td>مقامات حیرت انگیز ہیں موسیقی حیرت انگیز ہے اور کرشنا وامشی کی ہدایتکاری کا اثر بہت موثر فلم سازی اور اچھی ترمیم نے حاصل کیا ہے</td>\n",
       "    </tr>\n",
       "  </tbody>\n",
       "</table>\n",
       "</div>"
      ],
      "text/plain": [
       "                                                                                                                                                                                                                                                          Instructions  \\\n",
       "0  Add appropriate punctuations and sentence boundaries to the following Urdu text in input. Don't include any kind of html tags and don't truncate the output. Provide the actual input that has been asked. \"،\" \"۔\" These are the punctuations that need to be added   \n",
       "1  Add appropriate punctuations and sentence boundaries to the following Urdu text in input. Don't include any kind of html tags and don't truncate the output. Provide the actual input that has been asked. \"،\" \"۔\" These are the punctuations that need to be added   \n",
       "2  Add appropriate punctuations and sentence boundaries to the following Urdu text in input. Don't include any kind of html tags and don't truncate the output. Provide the actual input that has been asked. \"،\" \"۔\" These are the punctuations that need to be added   \n",
       "3  Add appropriate punctuations and sentence boundaries to the following Urdu text in input. Don't include any kind of html tags and don't truncate the output. Provide the actual input that has been asked. \"،\" \"۔\" These are the punctuations that need to be added   \n",
       "4  Add appropriate punctuations and sentence boundaries to the following Urdu text in input. Don't include any kind of html tags and don't truncate the output. Provide the actual input that has been asked. \"،\" \"۔\" These are the punctuations that need to be added   \n",
       "\n",
       "                                                                                                                           Prompt  \n",
       "0          وہ پہلے ایک بہت ہی ہمدرد کردار کی حیثیت سے نہیں آسکتی ہے لیکن پوری فلم کو دیکھ کر آپ چاہتے ہیں کہ اس کی کامیابی ہوجائے  \n",
       "1            میں نے اس سے پہلے کبھی نہیں سنا تھا اور نہ ہی جان بوجھ کر اسے کسی دوسری فلم میں دیکھا تھا لیکن یہ زبردست اداکاری تھی  \n",
       "2       اس فلم کی خوبصورتی کا ثبوت ماں کی محبت کی طاقت غیر معمولی پرفارمنس مستقل پھانسی اور کافی جدید اسکرپٹ کے عظیم نقاشی میں ہے  \n",
       "3  اس فلم میں ایک ہندوستانی خاتون نندنی کی کہانی بیان کی گئی ہے جو اپنے شوہر شیکھر اور چھوٹے بچے راجہ کے ساتھ کینیڈا میں رہتی ہیں  \n",
       "4  مقامات حیرت انگیز ہیں موسیقی حیرت انگیز ہے اور کرشنا وامشی کی ہدایتکاری کا اثر بہت موثر فلم سازی اور اچھی ترمیم نے حاصل کیا ہے  "
      ]
     },
     "execution_count": 164,
     "metadata": {},
     "output_type": "execute_result"
    }
   ],
   "source": [
    "df_test.head()"
   ]
  },
  {
   "cell_type": "markdown",
   "id": "ca24140f",
   "metadata": {},
   "source": [
    "### For One-shot learning"
   ]
  },
  {
   "cell_type": "markdown",
   "id": "e04f7e60",
   "metadata": {},
   "source": [
    "#### With Punctuations"
   ]
  },
  {
   "cell_type": "code",
   "execution_count": 33,
   "id": "dc8d0ec1",
   "metadata": {},
   "outputs": [],
   "source": [
    "sentences_1000_one_shot = urdu_sentences[2000:3000]"
   ]
  },
  {
   "cell_type": "markdown",
   "id": "903a313d",
   "metadata": {},
   "source": [
    "#### Removing unnecessary characters"
   ]
  },
  {
   "cell_type": "code",
   "execution_count": 35,
   "id": "0fb518da",
   "metadata": {},
   "outputs": [],
   "source": [
    "sentences_1000_one_shot= [sentence.replace('\\u200b\\u200b', '') for sentence in sentences_1000_one_shot]"
   ]
  },
  {
   "cell_type": "code",
   "execution_count": 37,
   "id": "35f83b7d",
   "metadata": {},
   "outputs": [],
   "source": [
    "import pickle\n",
    "\n",
    "# Specify the file path where you want to save the list\n",
    "file_path = 'sentences_1000_one_shot.pkl'\n",
    "\n",
    "# Save the list using pickle\n",
    "with open(file_path, 'wb') as file:\n",
    "    pickle.dump(sentences_1000_one_shot, file)"
   ]
  },
  {
   "cell_type": "markdown",
   "id": "736bcd2e",
   "metadata": {},
   "source": [
    "#### Without Punctuations"
   ]
  },
  {
   "cell_type": "code",
   "execution_count": 16,
   "id": "6a139eb7",
   "metadata": {},
   "outputs": [],
   "source": [
    "sentences_1000_without_punctuations = sentences_without_punctuation[2000:3000]"
   ]
  },
  {
   "cell_type": "code",
   "execution_count": 19,
   "id": "ed66d20c",
   "metadata": {},
   "outputs": [],
   "source": [
    "import pickle\n",
    "\n",
    "# Specify the file path where you want to save the list\n",
    "file_path = 'sentences_1000_without_punctuations.pkl'\n",
    "\n",
    "# Save the list using pickle\n",
    "with open(file_path, 'wb') as file:\n",
    "    pickle.dump(sentences_1000_without_punctuations, file)"
   ]
  },
  {
   "cell_type": "markdown",
   "id": "55e5ca0a",
   "metadata": {},
   "source": [
    "### Creating instruction set for fine-tuning "
   ]
  },
  {
   "cell_type": "markdown",
   "id": "6739b510",
   "metadata": {},
   "source": [
    "#### Training data"
   ]
  },
  {
   "cell_type": "code",
   "execution_count": 121,
   "id": "9475450c",
   "metadata": {},
   "outputs": [],
   "source": [
    "def create_instruction_template(row):\n",
    "    system_prompt = \"<<SYS>>Add appropriate punctuations and sentence boundaries to the following Urdu text in input. Don't include any kind of html tags and don't truncate the output. Provide the actual input that has been asked. '،' '۔' These are the punctuations that need to be added<</SYS>>\\n\"\n",
    "    my_input = row['Prompt']\n",
    "    model_answer = row['Response']\n",
    "    model_answer = f\"\\nFollowing is the correct sentence: {model_answer}\"\n",
    "\n",
    "    return f\"<s>[INST] {system_prompt} {my_input} [/INST] {model_answer} </s>\""
   ]
  },
  {
   "cell_type": "code",
   "execution_count": 122,
   "id": "b0b99d7b",
   "metadata": {},
   "outputs": [],
   "source": [
    "# Display the updated DataFrame\n",
    "df['text'] = df.apply(create_instruction_template, axis=1)"
   ]
  },
  {
   "cell_type": "code",
   "execution_count": 124,
   "id": "865aad29",
   "metadata": {},
   "outputs": [
    {
     "name": "stdout",
     "output_type": "stream",
     "text": [
      "<s>[INST] <<SYS>>Add appropriate punctuations and sentence boundaries to the following Urdu text in input. Don't include any kind of html tags and don't truncate the output. Provide the actual input that has been asked. '،' '۔' These are the punctuations that need to be added<</SYS>>\n",
      " بلکہ بے رحمی کے ساتھ وہ اس سے پوچھتی ہے کہ کیا وہ اخبار رکھ سکتا ہے اور وہ خاتون دوسرے حصے پیش کرتی ہے [/INST] \n",
      "Following is the correct sentence: بلکہ بے رحمی کے ساتھ، وہ اس سے پوچھتی ہے کہ کیا وہ اخبار رکھ سکتا ہے، اور وہ خاتون دوسرے حصے پیش کرتی ہے۔ </s>\n"
     ]
    }
   ],
   "source": [
    "print(df.iloc[0]['text'])"
   ]
  },
  {
   "cell_type": "code",
   "execution_count": 125,
   "id": "52c0880e",
   "metadata": {},
   "outputs": [],
   "source": [
    "# Save the DataFrame to a CSV file\n",
    "df.to_csv('train_sentences.csv', index=False, encoding='utf-8-sig')"
   ]
  },
  {
   "cell_type": "markdown",
   "id": "249d6aa9",
   "metadata": {},
   "source": [
    "#### Test data"
   ]
  },
  {
   "cell_type": "code",
   "execution_count": 165,
   "id": "ec4ef0d9",
   "metadata": {},
   "outputs": [],
   "source": [
    "def test_data(row):\n",
    "    system_prompt = \"<<SYS>>Add appropriate punctuations and sentence boundaries to the following Urdu text in input. Don't include any kind of html tags and don't truncate the output. Provide the actual input that has been asked. '،' '۔' These are the punctuations that need to be added<</SYS>>\\n\"\n",
    "    my_input = row['Prompt']\n",
    "\n",
    "    return f\"<s>[INST] {system_prompt} {my_input} [/INST] \\nFollowing is the correct sentence: \""
   ]
  },
  {
   "cell_type": "code",
   "execution_count": 166,
   "id": "b21cc238",
   "metadata": {},
   "outputs": [],
   "source": [
    "# Display the updated DataFrame\n",
    "df_test['text'] = df_test.apply(test_data, axis=1)"
   ]
  },
  {
   "cell_type": "code",
   "execution_count": 167,
   "id": "20d74903",
   "metadata": {},
   "outputs": [
    {
     "name": "stdout",
     "output_type": "stream",
     "text": [
      "<s>[INST] <<SYS>>Add appropriate punctuations and sentence boundaries to the following Urdu text in input. Don't include any kind of html tags and don't truncate the output. Provide the actual input that has been asked. '،' '۔' These are the punctuations that need to be added<</SYS>>\n",
      " وہ پہلے ایک بہت ہی ہمدرد کردار کی حیثیت سے نہیں آسکتی ہے لیکن پوری فلم کو دیکھ کر آپ چاہتے ہیں کہ اس کی کامیابی ہوجائے [/INST] \n",
      "Following is the correct sentence: \n"
     ]
    }
   ],
   "source": [
    "print(df_test.iloc[0]['text'])"
   ]
  },
  {
   "cell_type": "code",
   "execution_count": 169,
   "id": "c087ac68",
   "metadata": {},
   "outputs": [],
   "source": [
    "# Add a new column 'True Value'\n",
    "df_test['True Value'] = sentences_with_punctuations_test"
   ]
  },
  {
   "cell_type": "code",
   "execution_count": 170,
   "id": "3c88022d",
   "metadata": {},
   "outputs": [
    {
     "data": {
      "text/html": [
       "<div>\n",
       "<style scoped>\n",
       "    .dataframe tbody tr th:only-of-type {\n",
       "        vertical-align: middle;\n",
       "    }\n",
       "\n",
       "    .dataframe tbody tr th {\n",
       "        vertical-align: top;\n",
       "    }\n",
       "\n",
       "    .dataframe thead th {\n",
       "        text-align: right;\n",
       "    }\n",
       "</style>\n",
       "<table border=\"1\" class=\"dataframe\">\n",
       "  <thead>\n",
       "    <tr style=\"text-align: right;\">\n",
       "      <th></th>\n",
       "      <th>Instructions</th>\n",
       "      <th>Prompt</th>\n",
       "      <th>text</th>\n",
       "      <th>True Value</th>\n",
       "    </tr>\n",
       "  </thead>\n",
       "  <tbody>\n",
       "    <tr>\n",
       "      <th>0</th>\n",
       "      <td>Add appropriate punctuations and sentence boundaries to the following Urdu text in input. Don't include any kind of html tags and don't truncate the output. Provide the actual input that has been asked. \"،\" \"۔\" These are the punctuations that need to be added</td>\n",
       "      <td>وہ پہلے ایک بہت ہی ہمدرد کردار کی حیثیت سے نہیں آسکتی ہے لیکن پوری فلم کو دیکھ کر آپ چاہتے ہیں کہ اس کی کامیابی ہوجائے</td>\n",
       "      <td>&lt;s&gt;[INST] &lt;&lt;SYS&gt;&gt;Add appropriate punctuations and sentence boundaries to the following Urdu text in input. Don't include any kind of html tags and don't truncate the output. Provide the actual input that has been asked. '،' '۔' These are the punctuations that need to be added&lt;&lt;/SYS&gt;&gt;\\n وہ پہلے ایک بہت ہی ہمدرد کردار کی حیثیت سے نہیں آسکتی ہے لیکن پوری فلم کو دیکھ کر آپ چاہتے ہیں کہ اس کی کامیابی ہوجائے [/INST] \\nFollowing is the correct sentence:</td>\n",
       "      <td>وہ پہلے ایک بہت ہی ہمدرد کردار کی حیثیت سے نہیں آسکتی ہے، لیکن پوری فلم کو دیکھ کر، آپ چاہتے ہیں کہ اس کی کامیابی ہوجائے۔</td>\n",
       "    </tr>\n",
       "    <tr>\n",
       "      <th>1</th>\n",
       "      <td>Add appropriate punctuations and sentence boundaries to the following Urdu text in input. Don't include any kind of html tags and don't truncate the output. Provide the actual input that has been asked. \"،\" \"۔\" These are the punctuations that need to be added</td>\n",
       "      <td>میں نے اس سے پہلے کبھی نہیں سنا تھا اور نہ ہی جان بوجھ کر اسے کسی دوسری فلم میں دیکھا تھا لیکن یہ زبردست اداکاری تھی</td>\n",
       "      <td>&lt;s&gt;[INST] &lt;&lt;SYS&gt;&gt;Add appropriate punctuations and sentence boundaries to the following Urdu text in input. Don't include any kind of html tags and don't truncate the output. Provide the actual input that has been asked. '،' '۔' These are the punctuations that need to be added&lt;&lt;/SYS&gt;&gt;\\n میں نے اس سے پہلے کبھی نہیں سنا تھا اور نہ ہی جان بوجھ کر اسے کسی دوسری فلم میں دیکھا تھا لیکن یہ زبردست اداکاری تھی [/INST] \\nFollowing is the correct sentence:</td>\n",
       "      <td>میں نے اس سے پہلے کبھی نہیں سنا تھا اور نہ ہی جان بوجھ کر اسے کسی دوسری فلم میں دیکھا تھا، لیکن یہ زبردست اداکاری تھی۔</td>\n",
       "    </tr>\n",
       "    <tr>\n",
       "      <th>2</th>\n",
       "      <td>Add appropriate punctuations and sentence boundaries to the following Urdu text in input. Don't include any kind of html tags and don't truncate the output. Provide the actual input that has been asked. \"،\" \"۔\" These are the punctuations that need to be added</td>\n",
       "      <td>اس فلم کی خوبصورتی کا ثبوت ماں کی محبت کی طاقت غیر معمولی پرفارمنس مستقل پھانسی اور کافی جدید اسکرپٹ کے عظیم نقاشی میں ہے</td>\n",
       "      <td>&lt;s&gt;[INST] &lt;&lt;SYS&gt;&gt;Add appropriate punctuations and sentence boundaries to the following Urdu text in input. Don't include any kind of html tags and don't truncate the output. Provide the actual input that has been asked. '،' '۔' These are the punctuations that need to be added&lt;&lt;/SYS&gt;&gt;\\n اس فلم کی خوبصورتی کا ثبوت ماں کی محبت کی طاقت غیر معمولی پرفارمنس مستقل پھانسی اور کافی جدید اسکرپٹ کے عظیم نقاشی میں ہے [/INST] \\nFollowing is the correct sentence:</td>\n",
       "      <td>اس فلم کی خوبصورتی کا ثبوت ماں کی محبت کی طاقت، غیر معمولی پرفارمنس، مستقل پھانسی اور کافی جدید اسکرپٹ کے عظیم نقاشی میں ہے۔</td>\n",
       "    </tr>\n",
       "    <tr>\n",
       "      <th>3</th>\n",
       "      <td>Add appropriate punctuations and sentence boundaries to the following Urdu text in input. Don't include any kind of html tags and don't truncate the output. Provide the actual input that has been asked. \"،\" \"۔\" These are the punctuations that need to be added</td>\n",
       "      <td>اس فلم میں ایک ہندوستانی خاتون نندنی کی کہانی بیان کی گئی ہے جو اپنے شوہر شیکھر اور چھوٹے بچے راجہ کے ساتھ کینیڈا میں رہتی ہیں</td>\n",
       "      <td>&lt;s&gt;[INST] &lt;&lt;SYS&gt;&gt;Add appropriate punctuations and sentence boundaries to the following Urdu text in input. Don't include any kind of html tags and don't truncate the output. Provide the actual input that has been asked. '،' '۔' These are the punctuations that need to be added&lt;&lt;/SYS&gt;&gt;\\n اس فلم میں ایک ہندوستانی خاتون نندنی کی کہانی بیان کی گئی ہے جو اپنے شوہر شیکھر اور چھوٹے بچے راجہ کے ساتھ کینیڈا میں رہتی ہیں [/INST] \\nFollowing is the correct sentence:</td>\n",
       "      <td>اس فلم میں ایک ہندوستانی خاتون، نندنی کی کہانی بیان کی گئی ہے، جو اپنے شوہر شیکھر اور چھوٹے بچے راجہ کے ساتھ کینیڈا میں رہتی ہیں۔</td>\n",
       "    </tr>\n",
       "    <tr>\n",
       "      <th>4</th>\n",
       "      <td>Add appropriate punctuations and sentence boundaries to the following Urdu text in input. Don't include any kind of html tags and don't truncate the output. Provide the actual input that has been asked. \"،\" \"۔\" These are the punctuations that need to be added</td>\n",
       "      <td>مقامات حیرت انگیز ہیں موسیقی حیرت انگیز ہے اور کرشنا وامشی کی ہدایتکاری کا اثر بہت موثر فلم سازی اور اچھی ترمیم نے حاصل کیا ہے</td>\n",
       "      <td>&lt;s&gt;[INST] &lt;&lt;SYS&gt;&gt;Add appropriate punctuations and sentence boundaries to the following Urdu text in input. Don't include any kind of html tags and don't truncate the output. Provide the actual input that has been asked. '،' '۔' These are the punctuations that need to be added&lt;&lt;/SYS&gt;&gt;\\n مقامات حیرت انگیز ہیں موسیقی حیرت انگیز ہے اور کرشنا وامشی کی ہدایتکاری کا اثر بہت موثر فلم سازی اور اچھی ترمیم نے حاصل کیا ہے [/INST] \\nFollowing is the correct sentence:</td>\n",
       "      <td>مقامات حیرت انگیز ہیں، موسیقی حیرت انگیز ہے، اور کرشنا وامشی کی ہدایتکاری کا اثر بہت موثر فلم سازی اور اچھی ترمیم نے حاصل کیا ہے۔</td>\n",
       "    </tr>\n",
       "  </tbody>\n",
       "</table>\n",
       "</div>"
      ],
      "text/plain": [
       "                                                                                                                                                                                                                                                          Instructions  \\\n",
       "0  Add appropriate punctuations and sentence boundaries to the following Urdu text in input. Don't include any kind of html tags and don't truncate the output. Provide the actual input that has been asked. \"،\" \"۔\" These are the punctuations that need to be added   \n",
       "1  Add appropriate punctuations and sentence boundaries to the following Urdu text in input. Don't include any kind of html tags and don't truncate the output. Provide the actual input that has been asked. \"،\" \"۔\" These are the punctuations that need to be added   \n",
       "2  Add appropriate punctuations and sentence boundaries to the following Urdu text in input. Don't include any kind of html tags and don't truncate the output. Provide the actual input that has been asked. \"،\" \"۔\" These are the punctuations that need to be added   \n",
       "3  Add appropriate punctuations and sentence boundaries to the following Urdu text in input. Don't include any kind of html tags and don't truncate the output. Provide the actual input that has been asked. \"،\" \"۔\" These are the punctuations that need to be added   \n",
       "4  Add appropriate punctuations and sentence boundaries to the following Urdu text in input. Don't include any kind of html tags and don't truncate the output. Provide the actual input that has been asked. \"،\" \"۔\" These are the punctuations that need to be added   \n",
       "\n",
       "                                                                                                                           Prompt  \\\n",
       "0          وہ پہلے ایک بہت ہی ہمدرد کردار کی حیثیت سے نہیں آسکتی ہے لیکن پوری فلم کو دیکھ کر آپ چاہتے ہیں کہ اس کی کامیابی ہوجائے   \n",
       "1            میں نے اس سے پہلے کبھی نہیں سنا تھا اور نہ ہی جان بوجھ کر اسے کسی دوسری فلم میں دیکھا تھا لیکن یہ زبردست اداکاری تھی   \n",
       "2       اس فلم کی خوبصورتی کا ثبوت ماں کی محبت کی طاقت غیر معمولی پرفارمنس مستقل پھانسی اور کافی جدید اسکرپٹ کے عظیم نقاشی میں ہے   \n",
       "3  اس فلم میں ایک ہندوستانی خاتون نندنی کی کہانی بیان کی گئی ہے جو اپنے شوہر شیکھر اور چھوٹے بچے راجہ کے ساتھ کینیڈا میں رہتی ہیں   \n",
       "4  مقامات حیرت انگیز ہیں موسیقی حیرت انگیز ہے اور کرشنا وامشی کی ہدایتکاری کا اثر بہت موثر فلم سازی اور اچھی ترمیم نے حاصل کیا ہے   \n",
       "\n",
       "                                                                                                                                                                                                                                                                                                                                                                                                                                                                          text  \\\n",
       "0          <s>[INST] <<SYS>>Add appropriate punctuations and sentence boundaries to the following Urdu text in input. Don't include any kind of html tags and don't truncate the output. Provide the actual input that has been asked. '،' '۔' These are the punctuations that need to be added<</SYS>>\\n وہ پہلے ایک بہت ہی ہمدرد کردار کی حیثیت سے نہیں آسکتی ہے لیکن پوری فلم کو دیکھ کر آپ چاہتے ہیں کہ اس کی کامیابی ہوجائے [/INST] \\nFollowing is the correct sentence:    \n",
       "1            <s>[INST] <<SYS>>Add appropriate punctuations and sentence boundaries to the following Urdu text in input. Don't include any kind of html tags and don't truncate the output. Provide the actual input that has been asked. '،' '۔' These are the punctuations that need to be added<</SYS>>\\n میں نے اس سے پہلے کبھی نہیں سنا تھا اور نہ ہی جان بوجھ کر اسے کسی دوسری فلم میں دیکھا تھا لیکن یہ زبردست اداکاری تھی [/INST] \\nFollowing is the correct sentence:    \n",
       "2       <s>[INST] <<SYS>>Add appropriate punctuations and sentence boundaries to the following Urdu text in input. Don't include any kind of html tags and don't truncate the output. Provide the actual input that has been asked. '،' '۔' These are the punctuations that need to be added<</SYS>>\\n اس فلم کی خوبصورتی کا ثبوت ماں کی محبت کی طاقت غیر معمولی پرفارمنس مستقل پھانسی اور کافی جدید اسکرپٹ کے عظیم نقاشی میں ہے [/INST] \\nFollowing is the correct sentence:    \n",
       "3  <s>[INST] <<SYS>>Add appropriate punctuations and sentence boundaries to the following Urdu text in input. Don't include any kind of html tags and don't truncate the output. Provide the actual input that has been asked. '،' '۔' These are the punctuations that need to be added<</SYS>>\\n اس فلم میں ایک ہندوستانی خاتون نندنی کی کہانی بیان کی گئی ہے جو اپنے شوہر شیکھر اور چھوٹے بچے راجہ کے ساتھ کینیڈا میں رہتی ہیں [/INST] \\nFollowing is the correct sentence:    \n",
       "4  <s>[INST] <<SYS>>Add appropriate punctuations and sentence boundaries to the following Urdu text in input. Don't include any kind of html tags and don't truncate the output. Provide the actual input that has been asked. '،' '۔' These are the punctuations that need to be added<</SYS>>\\n مقامات حیرت انگیز ہیں موسیقی حیرت انگیز ہے اور کرشنا وامشی کی ہدایتکاری کا اثر بہت موثر فلم سازی اور اچھی ترمیم نے حاصل کیا ہے [/INST] \\nFollowing is the correct sentence:    \n",
       "\n",
       "                                                                                                                          True Value  \n",
       "0          وہ پہلے ایک بہت ہی ہمدرد کردار کی حیثیت سے نہیں آسکتی ہے، لیکن پوری فلم کو دیکھ کر، آپ چاہتے ہیں کہ اس کی کامیابی ہوجائے۔  \n",
       "1             میں نے اس سے پہلے کبھی نہیں سنا تھا اور نہ ہی جان بوجھ کر اسے کسی دوسری فلم میں دیکھا تھا، لیکن یہ زبردست اداکاری تھی۔  \n",
       "2       اس فلم کی خوبصورتی کا ثبوت ماں کی محبت کی طاقت، غیر معمولی پرفارمنس، مستقل پھانسی اور کافی جدید اسکرپٹ کے عظیم نقاشی میں ہے۔  \n",
       "3  اس فلم میں ایک ہندوستانی خاتون، نندنی کی کہانی بیان کی گئی ہے، جو اپنے شوہر شیکھر اور چھوٹے بچے راجہ کے ساتھ کینیڈا میں رہتی ہیں۔  \n",
       "4  مقامات حیرت انگیز ہیں، موسیقی حیرت انگیز ہے، اور کرشنا وامشی کی ہدایتکاری کا اثر بہت موثر فلم سازی اور اچھی ترمیم نے حاصل کیا ہے۔  "
      ]
     },
     "execution_count": 170,
     "metadata": {},
     "output_type": "execute_result"
    }
   ],
   "source": [
    "df_test.head()"
   ]
  },
  {
   "cell_type": "code",
   "execution_count": 171,
   "id": "76a27da4",
   "metadata": {},
   "outputs": [],
   "source": [
    "# Save the DataFrame to a CSV file\n",
    "df_test.to_csv('test_sentences.csv', index=False, encoding='utf-8-sig')"
   ]
  },
  {
   "cell_type": "code",
   "execution_count": null,
   "id": "974b22c5",
   "metadata": {},
   "outputs": [],
   "source": []
  }
 ],
 "metadata": {
  "kernelspec": {
   "display_name": "Python 3",
   "language": "python",
   "name": "python3"
  },
  "language_info": {
   "codemirror_mode": {
    "name": "ipython",
    "version": 3
   },
   "file_extension": ".py",
   "mimetype": "text/x-python",
   "name": "python",
   "nbconvert_exporter": "python",
   "pygments_lexer": "ipython3",
   "version": "3.9.5"
  }
 },
 "nbformat": 4,
 "nbformat_minor": 5
}
